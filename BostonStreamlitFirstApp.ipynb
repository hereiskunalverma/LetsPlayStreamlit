{
 "cells": [
  {
   "cell_type": "code",
   "execution_count": 12,
   "metadata": {},
   "outputs": [],
   "source": [
    "import tensorflow as tf\n",
    "import math\n",
    "import numpy as np\n",
    "import matplotlib.pyplot as plt"
   ]
  },
  {
   "cell_type": "code",
   "execution_count": 3,
   "metadata": {},
   "outputs": [],
   "source": [
    "# importing the dataset from keras datasets api\n",
    "# feel free to explore it at - tensorflow hub datasets\n",
    "(X_train, y_train), (X_test, y_test) = tf.keras.datasets.boston_housing.load_data(\n",
    "    path='boston_housing.npz', test_split=0.2, seed=113\n",
    ")"
   ]
  },
  {
   "cell_type": "code",
   "execution_count": 4,
   "metadata": {},
   "outputs": [
    {
     "name": "stdout",
     "output_type": "stream",
     "text": [
      "the training and test sets consists of following shape --> \n",
      "\n",
      "X_train.shape  -->  (404, 13)\n",
      "X_test.shape   -->  (102, 13)\n",
      "y_train.shape  -->  (404,)\n",
      "y_test.shape   -->  (102,)\n"
     ]
    }
   ],
   "source": [
    "print('the training and test sets consists of following shape --> \\n')\n",
    "print('X_train.shape  --> ', X_train.shape)\n",
    "print('X_test.shape   --> ', X_test.shape)\n",
    "print('y_train.shape  --> ',y_train.shape)\n",
    "print('y_test.shape   --> ', y_test.shape)"
   ]
  },
  {
   "cell_type": "code",
   "execution_count": 5,
   "metadata": {},
   "outputs": [],
   "source": [
    "# Feature Scaling\n",
    "\n",
    "from sklearn.preprocessing import StandardScaler\n",
    "fs = StandardScaler()\n",
    "X_train = fs.fit_transform(X_train)\n",
    "X_test = fs.transform(X_test)"
   ]
  },
  {
   "cell_type": "code",
   "execution_count": 6,
   "metadata": {},
   "outputs": [
    {
     "data": {
      "text/plain": [
       "RandomForestRegressor(criterion='mae', n_estimators=600, random_state=42)"
      ]
     },
     "execution_count": 6,
     "metadata": {},
     "output_type": "execute_result"
    }
   ],
   "source": [
    "from sklearn.ensemble import RandomForestRegressor\n",
    "regressor = RandomForestRegressor(n_estimators=600, criterion='mae', random_state=42)\n",
    "regressor.fit(X_train, y_train)"
   ]
  },
  {
   "cell_type": "code",
   "execution_count": 8,
   "metadata": {},
   "outputs": [
    {
     "name": "stdout",
     "output_type": "stream",
     "text": [
      "R2_Score : 83.14669695447182\n"
     ]
    }
   ],
   "source": [
    "from sklearn.metrics import r2_score\n",
    "print(f\"R2_Score : {r2_score(y_test,regressor.predict(X_test)) * 100}\")"
   ]
  },
  {
   "cell_type": "code",
   "execution_count": 9,
   "metadata": {},
   "outputs": [
    {
     "data": {
      "text/plain": [
       "13"
      ]
     },
     "execution_count": 9,
     "metadata": {},
     "output_type": "execute_result"
    }
   ],
   "source": [
    "features = ['Crime rate by town', 'proportion of residential land zoned', 'proportion of retail business around acres', 'isriver','nitric oxide concentration','average rooms','age','distance','rad','tax',\n",
    "            'pupil-teacher ratio','blacks by town','lower status of the population']\n",
    "len(features)"
   ]
  },
  {
   "cell_type": "code",
   "execution_count": 10,
   "metadata": {},
   "outputs": [
    {
     "data": {
      "text/plain": [
       "'\\n # Load from file\\nwith open(pkl_filename, \\'rb\\') as file:\\n    pickle_model = pickle.load(file)\\n    \\n# Calculate the accuracy score and predict target values\\nscore = pickle_model.score(Xtest, Ytest)\\nprint(\"Test score: {0:.2f} %\".format(100 * score))\\nYpredict = pickle_model.predict(Xtest)\\n'"
      ]
     },
     "execution_count": 10,
     "metadata": {},
     "output_type": "execute_result"
    }
   ],
   "source": [
    "# saving model\n",
    "import pickle\n",
    "boston_model=\"boston_model.pkl\"\n",
    "with open(boston_model,\"wb\") as file:\n",
    "    pickle.dump(regressor,file)\n",
    "'''\n",
    " # Load from file\n",
    "with open(pkl_filename, 'rb') as file:\n",
    "    pickle_model = pickle.load(file)\n",
    "    \n",
    "# Calculate the accuracy score and predict target values\n",
    "score = pickle_model.score(Xtest, Ytest)\n",
    "print(\"Test score: {0:.2f} %\".format(100 * score))\n",
    "Ypredict = pickle_model.predict(Xtest)\n",
    "'''"
   ]
  },
  {
   "cell_type": "code",
   "execution_count": 15,
   "metadata": {},
   "outputs": [],
   "source": [
    "Xtest = np.array([233,2323,234,1,234,324,24,234,234,234,234,23,34]).reshape(1,-1)\n",
    "Xtest = fs.transform(Xtest)"
   ]
  },
  {
   "cell_type": "code",
   "execution_count": 17,
   "metadata": {},
   "outputs": [
    {
     "data": {
      "text/plain": [
       "array([30.87833333])"
      ]
     },
     "execution_count": 17,
     "metadata": {},
     "output_type": "execute_result"
    }
   ],
   "source": [
    "# Load from file\n",
    "with open(boston_model, 'rb') as file:\n",
    "    pickle_model = pickle.load(file)\n",
    "    \n",
    "# Calculate the accuracy score and predict target values\n",
    "Ypredict = pickle_model.predict(Xtest)\n",
    "Ypredict"
   ]
  },
  {
   "cell_type": "code",
   "execution_count": null,
   "metadata": {},
   "outputs": [],
   "source": [
    "# to run this as streamlit app\n",
    "# run this in different script\n",
    "import streamlit as st\n",
    "from sklearn.preprocessing import StandardScaler\n",
    "import pickle\n",
    "import numpy as np\n",
    "fs=StandardScaler()\n",
    "st.title(\"Boston House Median Prediction\")\n",
    "st.write(\"\"\"\n",
    "\tEnter the values of the given parameters to get the price of the house...\n",
    "\t\"\"\")\n",
    "features = ['Crime rate by town', 'proportion of residential land zoned', 'proportion of retail business around acres', 'isriver','nitric oxide concentration','average rooms','age','distance','rad','tax',\n",
    "            'pupil-teacher ratio','blacks by town','lower status of the population']\n",
    "x_test=list()\n",
    "for i in features:\n",
    "\tif i=='isriver':\n",
    "\t\toption=st.selectbox('Is River near the residential?',['True','False'])\n",
    "\t\tif option:\n",
    "\t\t\tx_test.append(1)\n",
    "\t\telse:\n",
    "\t\t\tx_test.append(0)\n",
    "\t\tcontinue\n",
    "\tuser_input=st.text_input(i,0)\n",
    "\tx_test.append(user_input)\n",
    "# Load from file\n",
    "boston_model=r\"C:\\Users\\HP\\Desktop\\Machine Learning Tutorials\\My Demo Project\\boston_model.pkl\"\n",
    "with open(boston_model, 'rb') as file:\n",
    "    pickle_model = pickle.load(file)\n",
    "# Calculate the accuracy score and predict target values\n",
    "Xtest = np.array(x_test).reshape(1,-1)\n",
    "Xtest = fs.fit_transform(Xtest)\n",
    "ypredict = pickle_model.predict(Xtest)\n",
    "if st.button(\"Predict\"):\n",
    "\tst.write(ypredict)"
   ]
  }
 ],
 "metadata": {
  "kernelspec": {
   "display_name": "Python 3",
   "language": "python",
   "name": "python3"
  },
  "language_info": {
   "codemirror_mode": {
    "name": "ipython",
    "version": 3
   },
   "file_extension": ".py",
   "mimetype": "text/x-python",
   "name": "python",
   "nbconvert_exporter": "python",
   "pygments_lexer": "ipython3",
   "version": "3.7.6"
  }
 },
 "nbformat": 4,
 "nbformat_minor": 4
}
